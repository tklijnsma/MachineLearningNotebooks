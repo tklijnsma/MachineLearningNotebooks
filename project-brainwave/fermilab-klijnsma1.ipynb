{
 "cells": [
  {
   "cell_type": "markdown",
   "metadata": {},
   "source": [
    "# Brainwave Service Upload\n",
    "This Notebook is intended to simplify the training / upload process by splitting the two steps into two separate notebooks. In particular, this Notebook is for uploading a previously-trained model to the cloud, and doesn't contain any training code. It does have some sanity check code to ensure you're loading in the right model, before actually uploading it."
   ]
  },
  {
   "cell_type": "markdown",
   "metadata": {},
   "source": [
    "Even though these first few cells are repeated in the training Notebooks, it is necessary here since we still must set up the environment to load the model into memory."
   ]
  },
  {
   "cell_type": "code",
   "execution_count": 36,
   "metadata": {},
   "outputs": [
    {
     "name": "stdout",
     "output_type": "stream",
     "text": [
      "[name: \"/device:CPU:0\"\n",
      "device_type: \"CPU\"\n",
      "memory_limit: 268435456\n",
      "locality {\n",
      "}\n",
      "incarnation: 14046399609483262152\n",
      ", name: \"/device:XLA_CPU:0\"\n",
      "device_type: \"XLA_CPU\"\n",
      "memory_limit: 17179869184\n",
      "locality {\n",
      "}\n",
      "incarnation: 12419409782087342672\n",
      "physical_device_desc: \"device: XLA_CPU device\"\n",
      "]\n",
      "The autoreload extension is already loaded. To reload it, use:\n",
      "  %reload_ext autoreload\n"
     ]
    }
   ],
   "source": [
    "import os,sys\n",
    "os.environ['KERAS_BACKEND'] = 'tensorflow'\n",
    "os.environ['CUDA_VISIBLE_DEVICES'] = ''\n",
    "import tensorflow as tf\n",
    "import numpy as np\n",
    "from keras import backend as K\n",
    "import tables\n",
    "from tensorflow.python.client import device_lib\n",
    "print(device_lib.list_local_devices())\n",
    "%load_ext autoreload\n",
    "%autoreload 2"
   ]
  },
  {
   "cell_type": "code",
   "execution_count": 37,
   "metadata": {},
   "outputs": [],
   "source": [
    "# Directories for models\n",
    "custom_weights_dir_q = \"/mnt/disks/acceldata/fromjavier/weights-quantized-224x224-fixval-best-final\"\n",
    "saved_model_dir = \"/home/thomas/accel1/models\""
   ]
  },
  {
   "cell_type": "markdown",
   "metadata": {},
   "source": [
    "## Prepare Data\n",
    "Load the files we are going to use for training and testing. The public Top dataset consists of image formatted data, but our data has been preprocessed into a raw form. You will need to edit the paths as necessary."
   ]
  },
  {
   "cell_type": "code",
   "execution_count": 38,
   "metadata": {},
   "outputs": [],
   "source": [
    "from utils import normalize_and_rgb, image_with_label, count_events"
   ]
  },
  {
   "cell_type": "code",
   "execution_count": 39,
   "metadata": {},
   "outputs": [
    {
     "name": "stdout",
     "output_type": "stream",
     "text": [
      "n_test_events = 404000\n"
     ]
    }
   ],
   "source": [
    "import glob\n",
    "# for 224x224:\n",
    "datadir=\"/mnt/disks/acceldata/fromjavier/converted/rotation_224_v1\"\n",
    "# datadir=\"/mnt/disks/acceldata/copyfromnhan/MachineLearningNotebooks/data/test\"\n",
    "\n",
    "data_size = 224 #image width/height\n",
    "test_files = glob.glob(os.path.join(datadir, 'test_file_*'))\n",
    "n_test_events = count_events(test_files)\n",
    "print(\"n_test_events =\", n_test_events)"
   ]
  },
  {
   "cell_type": "code",
   "execution_count": 40,
   "metadata": {},
   "outputs": [
    {
     "name": "stdout",
     "output_type": "stream",
     "text": [
      "Getting data from /mnt/disks/acceldata/fromjavier/converted/rotation_224_v1/test_file_40.h5, indices [18, 19, 20, 21]\n",
      "Converting data to img-like arrays\n",
      "raw data shape:       (4, 224, 224)\n",
      "sums shape:           (4, 1, 1)\n",
      "images shape:         (4, 224, 224)\n",
      "stacked images shape: (4, 224, 224, 3)\n",
      "Making plots\n",
      "Index 18: top\n"
     ]
    },
    {
     "data": {
      "image/png": "[encoded data removed]",
      "text/plain": [
       "<Figure size 360x360 with 1 Axes>"
      ]
     },
     "metadata": {
      "needs_background": "light"
     },
     "output_type": "display_data"
    },
    {
     "name": "stdout",
     "output_type": "stream",
     "text": [
      "Index 19: top\n"
     ]
    },
    {
     "data": {
      "image/png": "[encoded data removed]",
      "text/plain": [
       "<Figure size 360x360 with 1 Axes>"
      ]
     },
     "metadata": {
      "needs_background": "light"
     },
     "output_type": "display_data"
    },
    {
     "name": "stdout",
     "output_type": "stream",
     "text": [
      "Index 20: qcd\n"
     ]
    },
    {
     "data": {
      "image/png": "[encoded data removed]",
      "text/plain": [
       "<Figure size 360x360 with 1 Axes>"
      ]
     },
     "metadata": {
      "needs_background": "light"
     },
     "output_type": "display_data"
    },
    {
     "name": "stdout",
     "output_type": "stream",
     "text": [
      "Index 21: qcd\n"
     ]
    },
    {
     "data": {
      "image/png": "[encoded data removed]",
      "text/plain": [
       "<Figure size 360x360 with 1 Axes>"
      ]
     },
     "metadata": {
      "needs_background": "light"
     },
     "output_type": "display_data"
    }
   ],
   "source": [
    "import os\n",
    "import tables\n",
    "import numpy as np\n",
    "import matplotlib as mpl\n",
    "import matplotlib.pyplot as plt\n",
    "\n",
    "class TestHeatmap(object):\n",
    "        \n",
    "    def get_data_at_indices(self, train_file, indices):\n",
    "        print('Getting data from {0}, indices {1}'.format(train_file, indices))\n",
    "        f = tables.open_file(train_file, 'r')\n",
    "        # data   = np.array(f.root.img_pt)[indices].copy() # Images # Costs a lot of memory\n",
    "        # labels = np.array(f.root.label)[indices].copy() # Labels\n",
    "        data = np.array([ f.root.img_pt[i].copy() for i in indices ])\n",
    "        labels = np.array([ f.root.label[i].copy() for i in indices ])\n",
    "        f.close()\n",
    "        return data, labels\n",
    "\n",
    "    def data_to_images(self, data, traditional=True):\n",
    "        print('Converting data to img-like arrays')\n",
    "        # Compute sum per data entry, for normalization purposes\n",
    "        # data_sums = 1./np.sum(np.sum(data,axis=1),axis=-1)\n",
    "        data_sums = 1./np.array([ data[i].max() for i in range(data.shape[0]) ])\n",
    "\n",
    "        # Turn into len(indices) times 1x1 matrices\n",
    "        data_sums_reshaped = data_sums.reshape([ -1, 1, 1 ])\n",
    "\n",
    "        if traditional:\n",
    "            # Normalize and scale to 255\n",
    "            images = data * data_sums_reshaped * 255\n",
    "            # Turn last axis (the plain number) into a 3x1 array (rgb)\n",
    "            stacked_images = np.stack([images, images, images], axis=-1)\n",
    "\n",
    "        else:\n",
    "            # Go for a blue kind of plot\n",
    "            # Normalize, invert, and scale to 255\n",
    "            images = (data * data_sums_reshaped * -255).astype(int) + 255\n",
    "\n",
    "            # Turn last axis (the plain number) into a 3x1 array (rgb)\n",
    "            # The color that is kept 'white' is the one that shows up\n",
    "            white = np.ones(images.shape, int) * 255\n",
    "            stacked_images = np.stack([images, images, white], axis=-1)\n",
    "\n",
    "        print('raw data shape:      ', data.shape)\n",
    "        print('sums shape:          ', data_sums_reshaped.shape)\n",
    "        print('images shape:        ', images.shape)\n",
    "        print('stacked images shape:', stacked_images.shape)\n",
    "        return stacked_images\n",
    "\n",
    "    def plot_imgs(self, train_file, indices):\n",
    "        data, labels = self.get_data_at_indices(train_file, indices)\n",
    "        images = self.data_to_images(data, traditional=False)\n",
    "        width = 5\n",
    "        height = 5\n",
    "        fontsize = 10\n",
    "\n",
    "        print('Making plots')\n",
    "        n_images = images.shape[0]\n",
    "        for i in range(n_images):\n",
    "            is_top = labels[i][0] == 0\n",
    "            label_text = 'top' if is_top else 'qcd'\n",
    "            print('Index {0}: {1}'.format(indices[i], label_text))\n",
    "\n",
    "            image = images[i]\n",
    "\n",
    "            plt.style.use('sonic.mplstyle')\n",
    "            plt.figure(figsize=(width,height))\n",
    "            ax = plt.subplot()\n",
    "            for label in (ax.get_xticklabels() + ax.get_yticklabels()): label.set_fontsize(fontsize)\n",
    "\n",
    "            plt.imshow(\n",
    "                image,\n",
    "                origin='lower', interpolation='nearest',label='top'\n",
    "                )\n",
    "            plt.xlabel(r'$i\\eta$', fontsize=fontsize)\n",
    "            plt.ylabel(r'$i\\phi$', fontsize=fontsize)\n",
    "            plt.tight_layout()\n",
    "            plt.show()\n",
    "\n",
    "plotter = TestHeatmap()\n",
    "\n",
    "%matplotlib inline\n",
    "plotter.plot_imgs(os.path.join(datadir, 'test_file_40.h5'), [18, 19, 20, 21])"
   ]
  },
  {
   "cell_type": "markdown",
   "metadata": {},
   "source": [
    "## Load The Model"
   ]
  },
  {
   "cell_type": "code",
   "execution_count": 41,
   "metadata": {},
   "outputs": [
    {
     "name": "stdout",
     "output_type": "stream",
     "text": [
      "Loading quantized model\n"
     ]
    },
    {
     "ename": "KeyboardInterrupt",
     "evalue": "",
     "output_type": "error",
     "traceback": [
      "\u001b[0;31m---------------------------------------------------------------------------\u001b[0m",
      "\u001b[0;31mKeyboardInterrupt\u001b[0m                         Traceback (most recent call last)",
      "\u001b[0;32m<ipython-input-41-057e6072f116>\u001b[0m in \u001b[0;36m<module>\u001b[0;34m\u001b[0m\n\u001b[1;32m     10\u001b[0m         \u001b[0mstarting_weights_directory\u001b[0m\u001b[0;34m=\u001b[0m\u001b[0mcustom_weights_dir_q\u001b[0m\u001b[0;34m,\u001b[0m\u001b[0;34m\u001b[0m\u001b[0;34m\u001b[0m\u001b[0m\n\u001b[1;32m     11\u001b[0m         \u001b[0mis_training\u001b[0m\u001b[0;34m=\u001b[0m\u001b[0;32mFalse\u001b[0m\u001b[0;34m,\u001b[0m\u001b[0;34m\u001b[0m\u001b[0;34m\u001b[0m\u001b[0m\n\u001b[0;32m---> 12\u001b[0;31m         \u001b[0msize\u001b[0m\u001b[0;34m=\u001b[0m\u001b[0mdata_size\u001b[0m\u001b[0;34m\u001b[0m\u001b[0;34m\u001b[0m\u001b[0m\n\u001b[0m\u001b[1;32m     13\u001b[0m         )\n",
      "\u001b[0;32m~/accel1/MachineLearningNotebooks/project-brainwave/utils.py\u001b[0m in \u001b[0;36mconstruct_model\u001b[0;34m(quantized, saved_model_dir, starting_weights_directory, is_frozen, is_training, size)\u001b[0m\n\u001b[1;32m    134\u001b[0m         \u001b[0mfeaturizer\u001b[0m \u001b[0;34m=\u001b[0m \u001b[0mQuantizedResnet50\u001b[0m\u001b[0;34m(\u001b[0m\u001b[0msaved_model_dir\u001b[0m\u001b[0;34m,\u001b[0m \u001b[0mis_frozen\u001b[0m\u001b[0;34m=\u001b[0m\u001b[0mis_frozen\u001b[0m\u001b[0;34m,\u001b[0m \u001b[0mcustom_weights_directory\u001b[0m \u001b[0;34m=\u001b[0m \u001b[0mstarting_weights_directory\u001b[0m\u001b[0;34m)\u001b[0m\u001b[0;34m\u001b[0m\u001b[0;34m\u001b[0m\u001b[0m\n\u001b[1;32m    135\u001b[0m \u001b[0;34m\u001b[0m\u001b[0m\n\u001b[0;32m--> 136\u001b[0;31m     \u001b[0mfeatures\u001b[0m \u001b[0;34m=\u001b[0m \u001b[0mfeaturizer\u001b[0m\u001b[0;34m.\u001b[0m\u001b[0mimport_graph_def\u001b[0m\u001b[0;34m(\u001b[0m\u001b[0minput_tensor\u001b[0m\u001b[0;34m=\u001b[0m\u001b[0mimage_tensors\u001b[0m\u001b[0;34m,\u001b[0m \u001b[0mis_training\u001b[0m\u001b[0;34m=\u001b[0m\u001b[0mis_training\u001b[0m\u001b[0;34m)\u001b[0m\u001b[0;34m\u001b[0m\u001b[0;34m\u001b[0m\u001b[0m\n\u001b[0m\u001b[1;32m    137\u001b[0m \u001b[0;34m\u001b[0m\u001b[0m\n\u001b[1;32m    138\u001b[0m     \u001b[0;31m# Construct classifier\u001b[0m\u001b[0;34m\u001b[0m\u001b[0;34m\u001b[0m\u001b[0;34m\u001b[0m\u001b[0m\n",
      "\u001b[0;32m~/miniconda3/envs/accelenv1/lib/python3.6/site-packages/azureml/accel/models/accel_model.py\u001b[0m in \u001b[0;36mimport_graph_def\u001b[0;34m(self, input_tensor, is_training)\u001b[0m\n\u001b[1;32m    107\u001b[0m                     \u001b[0mself\u001b[0m\u001b[0;34m.\u001b[0m\u001b[0m_input_tensor_list\u001b[0m\u001b[0;34m[\u001b[0m\u001b[0mi\u001b[0m\u001b[0;34m]\u001b[0m \u001b[0;34m=\u001b[0m \u001b[0minput_map\u001b[0m\u001b[0;34m[\u001b[0m\u001b[0mold_name\u001b[0m\u001b[0;34m]\u001b[0m\u001b[0;34m.\u001b[0m\u001b[0mname\u001b[0m\u001b[0;34m.\u001b[0m\u001b[0msplit\u001b[0m\u001b[0;34m(\u001b[0m\u001b[0;34m':'\u001b[0m\u001b[0;34m)\u001b[0m\u001b[0;34m[\u001b[0m\u001b[0;36m0\u001b[0m\u001b[0;34m]\u001b[0m\u001b[0;34m\u001b[0m\u001b[0;34m\u001b[0m\u001b[0m\n\u001b[1;32m    108\u001b[0m \u001b[0;34m\u001b[0m\u001b[0m\n\u001b[0;32m--> 109\u001b[0;31m         \u001b[0mself\u001b[0m\u001b[0;34m.\u001b[0m\u001b[0m__saver\u001b[0m \u001b[0;34m=\u001b[0m \u001b[0mtf\u001b[0m\u001b[0;34m.\u001b[0m\u001b[0mtrain\u001b[0m\u001b[0;34m.\u001b[0m\u001b[0mimport_meta_graph\u001b[0m\u001b[0;34m(\u001b[0m\u001b[0mself\u001b[0m\u001b[0;34m.\u001b[0m\u001b[0m__metagraph_location\u001b[0m\u001b[0;34m,\u001b[0m \u001b[0minput_map\u001b[0m\u001b[0;34m=\u001b[0m\u001b[0minput_map\u001b[0m\u001b[0;34m)\u001b[0m\u001b[0;34m\u001b[0m\u001b[0;34m\u001b[0m\u001b[0m\n\u001b[0m\u001b[1;32m    110\u001b[0m \u001b[0;34m\u001b[0m\u001b[0m\n\u001b[1;32m    111\u001b[0m         \u001b[0;32mif\u001b[0m \u001b[0mself\u001b[0m\u001b[0;34m.\u001b[0m\u001b[0mis_frozen\u001b[0m\u001b[0;34m:\u001b[0m\u001b[0;34m\u001b[0m\u001b[0;34m\u001b[0m\u001b[0m\n",
      "\u001b[0;32m~/miniconda3/envs/accelenv1/lib/python3.6/site-packages/tensorflow/python/training/saver.py\u001b[0m in \u001b[0;36mimport_meta_graph\u001b[0;34m(meta_graph_or_file, clear_devices, import_scope, **kwargs)\u001b[0m\n\u001b[1;32m   1447\u001b[0m   return _import_meta_graph_with_return_elements(meta_graph_or_file,\n\u001b[1;32m   1448\u001b[0m                                                  \u001b[0mclear_devices\u001b[0m\u001b[0;34m,\u001b[0m \u001b[0mimport_scope\u001b[0m\u001b[0;34m,\u001b[0m\u001b[0;34m\u001b[0m\u001b[0;34m\u001b[0m\u001b[0m\n\u001b[0;32m-> 1449\u001b[0;31m                                                  **kwargs)[0]\n\u001b[0m\u001b[1;32m   1450\u001b[0m \u001b[0;34m\u001b[0m\u001b[0m\n\u001b[1;32m   1451\u001b[0m \u001b[0;34m\u001b[0m\u001b[0m\n",
      "\u001b[0;32m~/miniconda3/envs/accelenv1/lib/python3.6/site-packages/tensorflow/python/training/saver.py\u001b[0m in \u001b[0;36m_import_meta_graph_with_return_elements\u001b[0;34m(meta_graph_or_file, clear_devices, import_scope, return_elements, **kwargs)\u001b[0m\n\u001b[1;32m   1461\u001b[0m                        \"execution is enabled.\")\n\u001b[1;32m   1462\u001b[0m   \u001b[0;32mif\u001b[0m \u001b[0;32mnot\u001b[0m \u001b[0misinstance\u001b[0m\u001b[0;34m(\u001b[0m\u001b[0mmeta_graph_or_file\u001b[0m\u001b[0;34m,\u001b[0m \u001b[0mmeta_graph_pb2\u001b[0m\u001b[0;34m.\u001b[0m\u001b[0mMetaGraphDef\u001b[0m\u001b[0;34m)\u001b[0m\u001b[0;34m:\u001b[0m\u001b[0;34m\u001b[0m\u001b[0;34m\u001b[0m\u001b[0m\n\u001b[0;32m-> 1463\u001b[0;31m     \u001b[0mmeta_graph_def\u001b[0m \u001b[0;34m=\u001b[0m \u001b[0mmeta_graph\u001b[0m\u001b[0;34m.\u001b[0m\u001b[0mread_meta_graph_file\u001b[0m\u001b[0;34m(\u001b[0m\u001b[0mmeta_graph_or_file\u001b[0m\u001b[0;34m)\u001b[0m\u001b[0;34m\u001b[0m\u001b[0;34m\u001b[0m\u001b[0m\n\u001b[0m\u001b[1;32m   1464\u001b[0m   \u001b[0;32melse\u001b[0m\u001b[0;34m:\u001b[0m\u001b[0;34m\u001b[0m\u001b[0;34m\u001b[0m\u001b[0m\n\u001b[1;32m   1465\u001b[0m     \u001b[0mmeta_graph_def\u001b[0m \u001b[0;34m=\u001b[0m \u001b[0mmeta_graph_or_file\u001b[0m\u001b[0;34m\u001b[0m\u001b[0;34m\u001b[0m\u001b[0m\n",
      "\u001b[0;32m~/miniconda3/envs/accelenv1/lib/python3.6/site-packages/tensorflow/python/framework/meta_graph.py\u001b[0m in \u001b[0;36mread_meta_graph_file\u001b[0;34m(filename)\u001b[0m\n\u001b[1;32m    686\u001b[0m   \u001b[0mfile_content\u001b[0m \u001b[0;34m=\u001b[0m \u001b[0mfile_io\u001b[0m\u001b[0;34m.\u001b[0m\u001b[0mFileIO\u001b[0m\u001b[0;34m(\u001b[0m\u001b[0mfilename\u001b[0m\u001b[0;34m,\u001b[0m \u001b[0;34m\"rb\"\u001b[0m\u001b[0;34m)\u001b[0m\u001b[0;34m.\u001b[0m\u001b[0mread\u001b[0m\u001b[0;34m(\u001b[0m\u001b[0;34m)\u001b[0m\u001b[0;34m\u001b[0m\u001b[0;34m\u001b[0m\u001b[0m\n\u001b[1;32m    687\u001b[0m   \u001b[0;32mtry\u001b[0m\u001b[0;34m:\u001b[0m\u001b[0;34m\u001b[0m\u001b[0;34m\u001b[0m\u001b[0m\n\u001b[0;32m--> 688\u001b[0;31m     \u001b[0mmeta_graph_def\u001b[0m\u001b[0;34m.\u001b[0m\u001b[0mParseFromString\u001b[0m\u001b[0;34m(\u001b[0m\u001b[0mfile_content\u001b[0m\u001b[0;34m)\u001b[0m\u001b[0;34m\u001b[0m\u001b[0;34m\u001b[0m\u001b[0m\n\u001b[0m\u001b[1;32m    689\u001b[0m     \u001b[0;32mreturn\u001b[0m \u001b[0mmeta_graph_def\u001b[0m\u001b[0;34m\u001b[0m\u001b[0;34m\u001b[0m\u001b[0m\n\u001b[1;32m    690\u001b[0m   \u001b[0;32mexcept\u001b[0m \u001b[0mException\u001b[0m\u001b[0;34m:\u001b[0m  \u001b[0;31m# pylint: disable=broad-except\u001b[0m\u001b[0;34m\u001b[0m\u001b[0;34m\u001b[0m\u001b[0m\n",
      "\u001b[0;31mKeyboardInterrupt\u001b[0m: "
     ]
    }
   ],
   "source": [
    "from utils import construct_model\n",
    "tf.reset_default_graph()\n",
    "sess = tf.Session(graph=tf.get_default_graph())\n",
    "\n",
    "with sess.as_default():\n",
    "    print(\"Loading quantized model\")\n",
    "    in_images, image_tensors, features, preds, quantized_featurizer, classifier = construct_model(\n",
    "        quantized=True, \n",
    "        saved_model_dir=saved_model_dir, \n",
    "        starting_weights_directory=custom_weights_dir_q, \n",
    "        is_training=False, \n",
    "        size=data_size\n",
    "        )"
   ]
  },
  {
   "cell_type": "code",
   "execution_count": null,
   "metadata": {},
   "outputs": [],
   "source": [
    "print(in_images)\n",
    "print(image_tensors)"
   ]
  },
  {
   "cell_type": "markdown",
   "metadata": {},
   "source": [
    "## Service Definition"
   ]
  },
  {
   "cell_type": "code",
   "execution_count": null,
   "metadata": {},
   "outputs": [],
   "source": [
    "model_name = \"klijnsma_tquarkRN50_v1\"\n",
    "model_save_path = os.path.join(saved_model_dir, model_name)\n",
    "\n",
    "while os.path.isdir(model_save_path):\n",
    "    i = 0\n",
    "    model_save_path = os.path.join(saved_model_dir, model_name + '_s' + str(i))\n",
    "print('Saving to ' + model_save_path)\n",
    "    \n",
    "with sess.as_default():\n",
    "    tf.saved_model.simple_save(\n",
    "        sess, model_save_path,\n",
    "        inputs={'images': image_tensors},\n",
    "        # inputs={'images': image_tensors_1dim},\n",
    "        outputs={'output_alias': preds}\n",
    "        )\n"
   ]
  },
  {
   "cell_type": "code",
   "execution_count": null,
   "metadata": {},
   "outputs": [],
   "source": [
    "input_tensors = image_tensors.name\n",
    "output_tensors = preds.name\n",
    "\n",
    "print(input_tensors)\n",
    "print(output_tensors)\n",
    "\n",
    "print(image_tensors_1dim.name)"
   ]
  },
  {
   "cell_type": "markdown",
   "metadata": {},
   "source": [
    "## Deploy\n",
    "\n",
    "Go to our GitHub repo \"docs\" folder to learn how to create a Model Management Account and find the required information below."
   ]
  },
  {
   "cell_type": "code",
   "execution_count": null,
   "metadata": {},
   "outputs": [],
   "source": [
    "import os\n",
    "\n",
    "subscription_id = os.environ.get(\"SUBSCRIPTION_ID\", \"80defacd-509e-410c-9812-6e52ed6a0016\")\n",
    "resource_group = os.environ.get(\"RESOURCE_GROUP\", \"CMS_FPGA_Resources\")\n",
    "workspace_name = os.environ.get(\"WORKSPACE_NAME\", \"Fermilab\")\n",
    "\n",
    "# subscription_id = os.environ.get(\"SUBSCRIPTION_ID\", \"7ab7d5bc-5d9e-47ef-80e6-2dffa8ca83a1\")\n",
    "# resource_group = os.environ.get(\"RESOURCE_GROUP\", \"tw-accel-fpga-rg\")\n",
    "# workspace_name = os.environ.get(\"WORKSPACE_NAME\", \"tw-aml-ws-accel-fpga\")\n",
    "\n",
    "from azureml.core import Workspace\n",
    "\n",
    "ws = Workspace(subscription_id = subscription_id, resource_group = resource_group, workspace_name = workspace_name)\n",
    "ws.write_config()\n",
    "print(ws.name, ws.resource_group, ws.location, ws.subscription_id, sep = '\\n')"
   ]
  },
  {
   "cell_type": "markdown",
   "metadata": {},
   "source": [
    "The first time the code below runs it will create a new service running your model. If you want to change the model you can make changes above in this notebook and save a new service definition. Then this code will update the running service in place to run the new model."
   ]
  },
  {
   "cell_type": "code",
   "execution_count": null,
   "metadata": {},
   "outputs": [],
   "source": [
    "from azureml.core.model import Model\n",
    "\n",
    "model_name = \"klijnsma_tquarkRN50_v1_s0\"\n",
    "\n",
    "from datetime import datetime\n",
    "ts = datetime.now().strftime('%Y-%m-%d %H:%M:%S')\n",
    "description = '[{0}] testing fermilab-v2'.format(ts)\n",
    "\n",
    "registered_model = Model.register(\n",
    "    ws,\n",
    "    model_save_path, model_name,\n",
    "    description = description\n",
    "    )\n",
    "print(\"Successfully registered: \", registered_model.name, registered_model.description, registered_model.version, sep = '\\t')\n"
   ]
  },
  {
   "cell_type": "code",
   "execution_count": null,
   "metadata": {},
   "outputs": [],
   "source": [
    "from azureml.accel import AccelOnnxConverter\n",
    "\n",
    "convert_request = AccelOnnxConverter.convert_tf_model(ws, registered_model, input_tensors, output_tensors)\n",
    "convert_request.wait_for_completion(show_output=True)"
   ]
  },
  {
   "cell_type": "code",
   "execution_count": null,
   "metadata": {},
   "outputs": [],
   "source": [
    "# If the above call succeeded, get the converted model\n",
    "converted_model = convert_request.result\n",
    "print(converted_model.name, converted_model.url, converted_model.version, converted_model.id,converted_model.created_time)"
   ]
  },
  {
   "cell_type": "code",
   "execution_count": null,
   "metadata": {},
   "outputs": [],
   "source": [
    "from azureml.core.image import Image\n",
    "from azureml.accel import AccelContainerImage\n",
    "\n",
    "image_config = AccelContainerImage.image_configuration()\n",
    "image_name = 'im-' + model_name.replace('_','-').lower()\n",
    "\n",
    "image = Image.create(\n",
    "    name = image_name,\n",
    "    models = [converted_model],\n",
    "    image_config = image_config, \n",
    "    workspace = ws\n",
    "    )\n",
    "image.wait_for_creation(show_output = True)"
   ]
  },
  {
   "cell_type": "code",
   "execution_count": null,
   "metadata": {},
   "outputs": [],
   "source": [
    "print(image.image_location)"
   ]
  },
  {
   "cell_type": "markdown",
   "metadata": {},
   "source": [
    "## Deploy to AKS\n",
    "\n",
    "Taken from example azure notebook: https://github.com/Azure/MachineLearningNotebooks/blob/master/how-to-use-azureml/deployment/accelerated-models/accelerated-models-quickstart.ipynb"
   ]
  },
  {
   "cell_type": "code",
   "execution_count": 47,
   "metadata": {
    "scrolled": true
   },
   "outputs": [
    {
     "name": "stdout",
     "output_type": "stream",
     "text": [
      "Fermilab\n",
      "CMS_FPGA_Resources\n",
      "eastus2\n",
      "80defacd-509e-410c-9812-6e52ed6a0016\n"
     ]
    }
   ],
   "source": [
    "# (Re)import workspace if not already done above\n",
    "import os\n",
    "from azureml.core import Workspace\n",
    "\n",
    "subscription_id = \"80defacd-509e-410c-9812-6e52ed6a0016\"\n",
    "resource_group = \"CMS_FPGA_Resources\"\n",
    "workspace_name = \"Fermilab\"\n",
    "\n",
    "ws = Workspace(subscription_id = subscription_id, resource_group = resource_group, workspace_name = workspace_name)\n",
    "ws.write_config()\n",
    "print(ws.name, ws.resource_group, ws.location, ws.subscription_id, sep = '\\n')"
   ]
  },
  {
   "cell_type": "code",
   "execution_count": 48,
   "metadata": {},
   "outputs": [],
   "source": [
    "from azureml.core.image import Image\n",
    "from azureml.accel import AccelContainerImage"
   ]
  },
  {
   "cell_type": "code",
   "execution_count": 49,
   "metadata": {},
   "outputs": [
    {
     "name": "stdout",
     "output_type": "stream",
     "text": [
      "AccelContainerImage(workspace=Workspace.create(name='Fermilab', subscription_id='80defacd-509e-410c-9812-6e52ed6a0016', resource_group='CMS_FPGA_Resources'), name=im-klijnsma-tquarkrn50-v1-s0, id=im-klijnsma-tquarkrn50-v1-s0:1, tags={}, properties={}, version=1)\n"
     ]
    }
   ],
   "source": [
    "# image = Image(ws, name=\"im-klijnsma-tquarkrn50-v1\")\n",
    "# image = Image(ws, name=\"im-klijnsma-tquarkrn50-v2\")\n",
    "image = Image(ws, name=\"im-klijnsma-tquarkrn50-v1-s0\")\n",
    "print(image)"
   ]
  },
  {
   "cell_type": "code",
   "execution_count": null,
   "metadata": {},
   "outputs": [],
   "source": [
    "from azureml.core.compute import AksCompute, ComputeTarget\n",
    "\n",
    "# Uses the specific FPGA enabled VM (sku: Standard_PB6s)\n",
    "# Standard_PB6s are available in:\n",
    "# eastus, westus2, westeurope, southeastasia\n",
    "prov_config = AksCompute.provisioning_configuration(\n",
    "    vm_size = \"Standard_PB6s\",\n",
    "    agent_count = 1, \n",
    "    location = \"eastus\"\n",
    "    )\n",
    "\n",
    "aks_name = 'aks-tkl-pb6-1'\n",
    "# Create the cluster\n",
    "\n",
    "aks_target = ComputeTarget.create(\n",
    "    workspace = ws, \n",
    "    name = aks_name, \n",
    "    provisioning_configuration = prov_config\n",
    "    )"
   ]
  },
  {
   "cell_type": "code",
   "execution_count": 50,
   "metadata": {},
   "outputs": [],
   "source": [
    "# Get created ComputeTarget from portal\n",
    "# Only use if not creating\n",
    "from azureml.core.compute import AksCompute, ComputeTarget\n",
    "aks_name = 'aks-tkl-pb6-1'\n",
    "aks_target = ComputeTarget(ws, aks_name)"
   ]
  },
  {
   "cell_type": "code",
   "execution_count": 51,
   "metadata": {},
   "outputs": [
    {
     "name": "stdout",
     "output_type": "stream",
     "text": [
      "AksCompute(workspace=Workspace.create(name='Fermilab', subscription_id='80defacd-509e-410c-9812-6e52ed6a0016', resource_group='CMS_FPGA_Resources'), name=aks-tkl-pb6-1, id=/subscriptions/80defacd-509e-410c-9812-6e52ed6a0016/resourceGroups/CMS_FPGA_Resources/providers/Microsoft.MachineLearningServices/workspaces/Fermilab/computes/aks-tkl-pb6-1, type=AKS, provisioning_state=Succeeded, location=eastus2, tags=None)\n"
     ]
    }
   ],
   "source": [
    "print(aks_target)"
   ]
  },
  {
   "cell_type": "markdown",
   "metadata": {},
   "source": [
    "Notes from the Azure tutorial:\n",
    "Provisioning an AKS cluster might take awhile (15 or so minutes), and we want to wait until it's successfully provisioned before we can deploy a service to it. If you interrupt this cell, provisioning of the cluster will continue. You can also check the status in your Workspace under Compute."
   ]
  },
  {
   "cell_type": "code",
   "execution_count": null,
   "metadata": {},
   "outputs": [],
   "source": [
    "# aks_target.wait_for_completion(show_output = True)\n",
    "# print(aks_target.provisioning_state)\n",
    "# print(aks_target.provisioning_errors)"
   ]
  },
  {
   "cell_type": "markdown",
   "metadata": {},
   "source": [
    "Deploy configuration and image to `AksComputeTarget`"
   ]
  },
  {
   "cell_type": "code",
   "execution_count": 52,
   "metadata": {},
   "outputs": [
    {
     "name": "stdout",
     "output_type": "stream",
     "text": [
      "<azureml.core.webservice.aks.AksServiceDeploymentConfiguration object at 0x7f968e78f7b8>\n"
     ]
    }
   ],
   "source": [
    "from azureml.core.webservice import Webservice, AksWebservice\n",
    "\n",
    "# Set the web service configuration (for creating a test service, we don't want autoscale enabled)\n",
    "# Authentication is enabled by default, but for testing we specify False\n",
    "aks_config = AksWebservice.deploy_configuration(\n",
    "    autoscale_enabled = False,\n",
    "    num_replicas=1,\n",
    "    auth_enabled = False,\n",
    "    )\n",
    "\n",
    "# Will raise if not correctly configured\n",
    "aks_config.validate_configuration()\n",
    "\n",
    "# Check that the image that is being deployed to the webservice is valid.\n",
    "# Will raise a WebserviceException if validation fails.\n",
    "aks_config.validate_image(image)\n",
    "\n",
    "print(aks_config)"
   ]
  },
  {
   "cell_type": "markdown",
   "metadata": {},
   "source": [
    "Actually deploy the image:"
   ]
  },
  {
   "cell_type": "code",
   "execution_count": 53,
   "metadata": {
    "scrolled": true
   },
   "outputs": [
    {
     "name": "stdout",
     "output_type": "stream",
     "text": [
      "Creating service\n"
     ]
    }
   ],
   "source": [
    "aks_service_name ='aks-service-klijnsma-1'\n",
    "\n",
    "aks_service = Webservice.deploy_from_image(\n",
    "    workspace         = ws,\n",
    "    name              = aks_service_name,\n",
    "    image             = image,\n",
    "    deployment_config = aks_config,\n",
    "    deployment_target = aks_target\n",
    "    )"
   ]
  },
  {
   "cell_type": "code",
   "execution_count": 55,
   "metadata": {},
   "outputs": [
    {
     "name": "stdout",
     "output_type": "stream",
     "text": [
      "AksWebservice(workspace=Workspace.create(name='Fermilab', subscription_id='80defacd-509e-410c-9812-6e52ed6a0016', resource_group='CMS_FPGA_Resources'), name=aks-service-klijnsma-1, image_id=im-klijnsma-tquarkrn50-v1-s0:1, compute_type=AKS, state=Healthy, scoring_uri=http://168.62.41.193/, tags={}, properties={'azureml.git.repository_uri': 'https://github.com/Azure/MachineLearningNotebooks.git', 'mlflow.source.git.repoURL': 'https://github.com/Azure/MachineLearningNotebooks.git', 'azureml.git.branch': 'klijnsma-dev1', 'mlflow.source.git.branch': 'klijnsma-dev1', 'azureml.git.commit': '64bcd2312defb6cb0991f3f3898bee2480268ce3', 'mlflow.source.git.commit': '64bcd2312defb6cb0991f3f3898bee2480268ce3', 'azureml.git.dirty': 'True'})\n",
      "Healthy\n"
     ]
    }
   ],
   "source": [
    "# Reload service from the portal:\n",
    "aks_service = Webservice(ws, 'aks-service-klijnsma-1')\n",
    "print(aks_service)\n",
    "print(aks_service.state)"
   ]
  },
  {
   "cell_type": "code",
   "execution_count": null,
   "metadata": {},
   "outputs": [],
   "source": [
    "# aks_service.wait_for_deployment(show_output = True)"
   ]
  },
  {
   "cell_type": "markdown",
   "metadata": {},
   "source": [
    "# Client\n",
    "There is a simple test client at amlrealtimeai.PredictionClient which can be used for testing. We'll use this client to score an image with our new service."
   ]
  },
  {
   "cell_type": "code",
   "execution_count": 42,
   "metadata": {},
   "outputs": [
    {
     "name": "stdout",
     "output_type": "stream",
     "text": [
      "52.179.86.149\n",
      "80\n",
      "False\n"
     ]
    }
   ],
   "source": [
    "print(address)\n",
    "print(port)\n",
    "print(ssl_enabled)"
   ]
  },
  {
   "cell_type": "code",
   "execution_count": 56,
   "metadata": {},
   "outputs": [],
   "source": [
    "# # from azureml.accel.client import PredictionClient\n",
    "# from azureml.accel._client import PredictionClient\n",
    "# # client = PredictionClient('sukha-fpga2.eastus.cloudapp.azure.com', 50051)\n",
    "# client = PredictionClient('fermilab9441410115.azurecr.io/top-quark-resnet50-image', 2)\n",
    "# print(client)\n",
    "\n",
    "\n",
    "# Do the AKS thing instead:\n",
    "\n",
    "# Using the grpc client in AzureML Accelerated Models SDK\n",
    "from azureml.accel._client import PredictionClient\n",
    "\n",
    "address = aks_service.scoring_uri\n",
    "ssl_enabled = address.startswith(\"https\")\n",
    "address = address[address.find('/')+2:].strip('/')\n",
    "port = 443 if ssl_enabled else 80\n",
    "\n",
    "# Initialize AzureML Accelerated Models client\n",
    "client = PredictionClient(\n",
    "    address=address,\n",
    "    port=port,\n",
    "    use_ssl=ssl_enabled,\n",
    "    service_name=aks_service.name\n",
    "    )"
   ]
  },
  {
   "cell_type": "code",
   "execution_count": 57,
   "metadata": {},
   "outputs": [
    {
     "name": "stdout",
     "output_type": "stream",
     "text": [
      "address     = 168.62.41.193\n",
      "ssl_enabled = False\n",
      "address     = 168.62.41.193\n",
      "port        = 80\n",
      "Client:\n",
      "<azureml.accel._client.PredictionClient object at 0x7f968e800710>\n"
     ]
    }
   ],
   "source": [
    "print('address     = {0}'.format(address))\n",
    "print('ssl_enabled = {0}'.format(ssl_enabled))\n",
    "print('address     = {0}'.format(address))\n",
    "print('port        = {0}'.format(port))\n",
    "print('Client:')\n",
    "print(client)"
   ]
  },
  {
   "cell_type": "markdown",
   "metadata": {},
   "source": [
    "## Request\n",
    "Let's see how our service does on a few images. It may get a few wrong."
   ]
  },
  {
   "cell_type": "code",
   "execution_count": 58,
   "metadata": {
    "scrolled": false
   },
   "outputs": [
    {
     "data": {
      "application/vnd.jupyter.widget-view+json": {
       "model_id": "bd37c0bf9a9146b3b191e9a9d4ac4e68",
       "version_major": 2,
       "version_minor": 0
      },
      "text/plain": [
       "HBox(children=(IntProgress(value=0, max=10001), HTML(value='')))"
      ]
     },
     "metadata": {},
     "output_type": "display_data"
    },
    {
     "ename": "KeyboardInterrupt",
     "evalue": "",
     "output_type": "error",
     "traceback": [
      "\u001b[0;31m---------------------------------------------------------------------------\u001b[0m",
      "\u001b[0;31mKeyboardInterrupt\u001b[0m                         Traceback (most recent call last)",
      "\u001b[0;32m<ipython-input-58-9a5fef942686>\u001b[0m in \u001b[0;36m<module>\u001b[0;34m\u001b[0m\n\u001b[1;32m     24\u001b[0m             \u001b[0;31m# 'brainwave_resnet50_1_Version_0.1_input_1:0' : np_array\u001b[0m\u001b[0;34m\u001b[0m\u001b[0;34m\u001b[0m\u001b[0;34m\u001b[0m\u001b[0m\n\u001b[1;32m     25\u001b[0m             \u001b[0;31m# image_tensors.name : np_array,\u001b[0m\u001b[0;34m\u001b[0m\u001b[0;34m\u001b[0m\u001b[0;34m\u001b[0m\u001b[0m\n\u001b[0;32m---> 26\u001b[0;31m             \u001b[0;34m'Placeholder:0'\u001b[0m \u001b[0;34m:\u001b[0m \u001b[0mnp_array\u001b[0m\u001b[0;34m\u001b[0m\u001b[0;34m\u001b[0m\u001b[0m\n\u001b[0m\u001b[1;32m     27\u001b[0m             }\n\u001b[1;32m     28\u001b[0m         )\n",
      "\u001b[0;32m~/miniconda3/envs/accelenv1/lib/python3.6/site-packages/azureml/accel/_client.py\u001b[0m in \u001b[0;36mscore_numpy_arrays\u001b[0;34m(self, input_map, outputs)\u001b[0m\n\u001b[1;32m    101\u001b[0m             \u001b[0mnpdata\u001b[0m \u001b[0;34m=\u001b[0m \u001b[0minput_map\u001b[0m\u001b[0;34m[\u001b[0m\u001b[0minput_name\u001b[0m\u001b[0;34m]\u001b[0m\u001b[0;34m\u001b[0m\u001b[0;34m\u001b[0m\u001b[0m\n\u001b[1;32m    102\u001b[0m             \u001b[0mrequest\u001b[0m\u001b[0;34m.\u001b[0m\u001b[0minputs\u001b[0m\u001b[0;34m[\u001b[0m\u001b[0minput_name\u001b[0m\u001b[0;34m]\u001b[0m\u001b[0;34m.\u001b[0m\u001b[0mCopyFrom\u001b[0m\u001b[0;34m(\u001b[0m\u001b[0mtf\u001b[0m\u001b[0;34m.\u001b[0m\u001b[0mcontrib\u001b[0m\u001b[0;34m.\u001b[0m\u001b[0mutil\u001b[0m\u001b[0;34m.\u001b[0m\u001b[0mmake_tensor_proto\u001b[0m\u001b[0;34m(\u001b[0m\u001b[0mnpdata\u001b[0m\u001b[0;34m)\u001b[0m\u001b[0;34m)\u001b[0m\u001b[0;34m\u001b[0m\u001b[0;34m\u001b[0m\u001b[0m\n\u001b[0;32m--> 103\u001b[0;31m         \u001b[0;32mreturn\u001b[0m \u001b[0mself\u001b[0m\u001b[0;34m.\u001b[0m\u001b[0m__predict\u001b[0m\u001b[0;34m(\u001b[0m\u001b[0mrequest\u001b[0m\u001b[0;34m,\u001b[0m \u001b[0;36m30.0\u001b[0m\u001b[0;34m,\u001b[0m \u001b[0moutputs\u001b[0m\u001b[0;34m)\u001b[0m\u001b[0;34m\u001b[0m\u001b[0;34m\u001b[0m\u001b[0m\n\u001b[0m\u001b[1;32m    104\u001b[0m \u001b[0;34m\u001b[0m\u001b[0m\n\u001b[1;32m    105\u001b[0m     \u001b[0;32mdef\u001b[0m \u001b[0mscore_tensors\u001b[0m\u001b[0;34m(\u001b[0m\u001b[0mself\u001b[0m\u001b[0;34m,\u001b[0m \u001b[0minput_map\u001b[0m\u001b[0;34m,\u001b[0m \u001b[0moutputs\u001b[0m\u001b[0;34m=\u001b[0m\u001b[0;32mNone\u001b[0m\u001b[0;34m,\u001b[0m \u001b[0mtimeout\u001b[0m\u001b[0;34m:\u001b[0m \u001b[0mfloat\u001b[0m \u001b[0;34m=\u001b[0m \u001b[0;36m10.0\u001b[0m\u001b[0;34m)\u001b[0m\u001b[0;34m:\u001b[0m\u001b[0;34m\u001b[0m\u001b[0;34m\u001b[0m\u001b[0m\n",
      "\u001b[0;32m~/miniconda3/envs/accelenv1/lib/python3.6/site-packages/azureml/accel/_client.py\u001b[0m in \u001b[0;36m__predict\u001b[0;34m(self, request, timeout, outputs)\u001b[0m\n\u001b[1;32m    152\u001b[0m         \u001b[0;32mwhile\u001b[0m \u001b[0;32mTrue\u001b[0m\u001b[0;34m:\u001b[0m\u001b[0;34m\u001b[0m\u001b[0;34m\u001b[0m\u001b[0m\n\u001b[1;32m    153\u001b[0m             \u001b[0;32mtry\u001b[0m\u001b[0;34m:\u001b[0m\u001b[0;34m\u001b[0m\u001b[0;34m\u001b[0m\u001b[0m\n\u001b[0;32m--> 154\u001b[0;31m                 \u001b[0mresult\u001b[0m \u001b[0;34m=\u001b[0m \u001b[0mself\u001b[0m\u001b[0;34m.\u001b[0m\u001b[0m_get_grpc_stub\u001b[0m\u001b[0;34m(\u001b[0m\u001b[0;34m)\u001b[0m\u001b[0;34m.\u001b[0m\u001b[0mPredict\u001b[0m\u001b[0;34m(\u001b[0m\u001b[0mrequest\u001b[0m\u001b[0;34m,\u001b[0m \u001b[0mtimeout\u001b[0m\u001b[0;34m,\u001b[0m \u001b[0mmetadata\u001b[0m\u001b[0;34m=\u001b[0m\u001b[0mself\u001b[0m\u001b[0;34m.\u001b[0m\u001b[0mmetadata\u001b[0m\u001b[0;34m)\u001b[0m\u001b[0;34m\u001b[0m\u001b[0;34m\u001b[0m\u001b[0m\n\u001b[0m\u001b[1;32m    155\u001b[0m \u001b[0;34m\u001b[0m\u001b[0m\n\u001b[1;32m    156\u001b[0m                 \u001b[0moutput_names\u001b[0m \u001b[0;34m=\u001b[0m \u001b[0moutputs\u001b[0m\u001b[0;34m\u001b[0m\u001b[0;34m\u001b[0m\u001b[0m\n",
      "\u001b[0;32m~/miniconda3/envs/accelenv1/lib/python3.6/site-packages/grpc/_channel.py\u001b[0m in \u001b[0;36m__call__\u001b[0;34m(self, request, timeout, metadata, credentials, wait_for_ready, compression)\u001b[0m\n\u001b[1;32m    562\u001b[0m                  compression=None):\n\u001b[1;32m    563\u001b[0m         state, call, = self._blocking(request, timeout, metadata, credentials,\n\u001b[0;32m--> 564\u001b[0;31m                                       wait_for_ready, compression)\n\u001b[0m\u001b[1;32m    565\u001b[0m         \u001b[0;32mreturn\u001b[0m \u001b[0m_end_unary_response_blocking\u001b[0m\u001b[0;34m(\u001b[0m\u001b[0mstate\u001b[0m\u001b[0;34m,\u001b[0m \u001b[0mcall\u001b[0m\u001b[0;34m,\u001b[0m \u001b[0;32mFalse\u001b[0m\u001b[0;34m,\u001b[0m \u001b[0;32mNone\u001b[0m\u001b[0;34m)\u001b[0m\u001b[0;34m\u001b[0m\u001b[0;34m\u001b[0m\u001b[0m\n\u001b[1;32m    566\u001b[0m \u001b[0;34m\u001b[0m\u001b[0m\n",
      "\u001b[0;32m~/miniconda3/envs/accelenv1/lib/python3.6/site-packages/grpc/_channel.py\u001b[0m in \u001b[0;36m_blocking\u001b[0;34m(self, request, timeout, metadata, credentials, wait_for_ready, compression)\u001b[0m\n\u001b[1;32m    550\u001b[0m                     \u001b[0;32mNone\u001b[0m\u001b[0;34m,\u001b[0m\u001b[0;34m\u001b[0m\u001b[0;34m\u001b[0m\u001b[0m\n\u001b[1;32m    551\u001b[0m                 ),), self._context)\n\u001b[0;32m--> 552\u001b[0;31m             \u001b[0mevent\u001b[0m \u001b[0;34m=\u001b[0m \u001b[0mcall\u001b[0m\u001b[0;34m.\u001b[0m\u001b[0mnext_event\u001b[0m\u001b[0;34m(\u001b[0m\u001b[0;34m)\u001b[0m\u001b[0;34m\u001b[0m\u001b[0;34m\u001b[0m\u001b[0m\n\u001b[0m\u001b[1;32m    553\u001b[0m             \u001b[0m_handle_event\u001b[0m\u001b[0;34m(\u001b[0m\u001b[0mevent\u001b[0m\u001b[0;34m,\u001b[0m \u001b[0mstate\u001b[0m\u001b[0;34m,\u001b[0m \u001b[0mself\u001b[0m\u001b[0;34m.\u001b[0m\u001b[0m_response_deserializer\u001b[0m\u001b[0;34m)\u001b[0m\u001b[0;34m\u001b[0m\u001b[0;34m\u001b[0m\u001b[0m\n\u001b[1;32m    554\u001b[0m             \u001b[0;32mreturn\u001b[0m \u001b[0mstate\u001b[0m\u001b[0;34m,\u001b[0m \u001b[0mcall\u001b[0m\u001b[0;34m\u001b[0m\u001b[0;34m\u001b[0m\u001b[0m\n",
      "\u001b[0;32msrc/python/grpcio/grpc/_cython/_cygrpc/channel.pyx.pxi\u001b[0m in \u001b[0;36mgrpc._cython.cygrpc.SegregatedCall.next_event\u001b[0;34m()\u001b[0m\n",
      "\u001b[0;32msrc/python/grpcio/grpc/_cython/_cygrpc/channel.pyx.pxi\u001b[0m in \u001b[0;36mgrpc._cython.cygrpc._next_call_event\u001b[0;34m()\u001b[0m\n",
      "\u001b[0;32msrc/python/grpcio/grpc/_cython/_cygrpc/completion_queue.pyx.pxi\u001b[0m in \u001b[0;36mgrpc._cython.cygrpc._latent_event\u001b[0;34m()\u001b[0m\n",
      "\u001b[0;32msrc/python/grpcio/grpc/_cython/_cygrpc/completion_queue.pyx.pxi\u001b[0m in \u001b[0;36mgrpc._cython.cygrpc._interpret_event\u001b[0;34m()\u001b[0m\n",
      "\u001b[0;32msrc/python/grpcio/grpc/_cython/_cygrpc/tag.pyx.pxi\u001b[0m in \u001b[0;36mgrpc._cython.cygrpc._BatchOperationTag.event\u001b[0;34m()\u001b[0m\n",
      "\u001b[0;32msrc/python/grpcio/grpc/_cython/_cygrpc/operation.pyx.pxi\u001b[0m in \u001b[0;36mgrpc._cython.cygrpc.ReceiveInitialMetadataOperation.un_c\u001b[0;34m()\u001b[0m\n",
      "\u001b[0;32msrc/python/grpcio/grpc/_cython/_cygrpc/metadata.pyx.pxi\u001b[0m in \u001b[0;36mgrpc._cython.cygrpc._metadata\u001b[0;34m()\u001b[0m\n",
      "\u001b[0;32msrc/python/grpcio/grpc/_cython/_cygrpc/metadata.pyx.pxi\u001b[0m in \u001b[0;36mgenexpr\u001b[0;34m()\u001b[0m\n",
      "\u001b[0;32msrc/python/grpcio/grpc/_cython/_cygrpc/metadata.pyx.pxi\u001b[0m in \u001b[0;36mgrpc._cython.cygrpc._metadatum\u001b[0;34m()\u001b[0m\n",
      "\u001b[0;32m<string>\u001b[0m in \u001b[0;36m__new__\u001b[0;34m(_cls, key, value)\u001b[0m\n",
      "\u001b[0;31mKeyboardInterrupt\u001b[0m: "
     ]
    }
   ],
   "source": [
    "from sklearn.metrics import roc_auc_score, accuracy_score, roc_curve\n",
    "from tqdm import tqdm, tqdm_notebook\n",
    "from utils import chunks\n",
    "    \n",
    "chunk_size = 1  # Brainwave only processes one request at a time\n",
    "\n",
    "\n",
    "less_test_files = test_files[:1]\n",
    "\n",
    "\n",
    "n_test_events = count_events(less_test_files)\n",
    "chunk_num = int(n_test_events/chunk_size)+1\n",
    "\n",
    "y_true = np.zeros((n_test_events,2))\n",
    "y_pred = np.zeros((n_test_events,2))\n",
    "\n",
    "\n",
    "i = 0\n",
    "for img_chunk, label_chunk, real_chunk_size in tqdm_notebook(chunks(less_test_files, chunk_size, max_q_size=1, shuffle=False), total=chunk_num):\n",
    "    np_array = np.float32(img_chunk)\n",
    "    \n",
    "    results = client.score_numpy_arrays(\n",
    "        input_map = {\n",
    "            # 'brainwave_resnet50_1_Version_0.1_input_1:0' : np_array\n",
    "            # image_tensors.name : np_array,\n",
    "            'Placeholder:0' : np_array\n",
    "            }\n",
    "        )\n",
    "        \n",
    "    y_pred[i,:] = results\n",
    "    y_true[i,:] = label_chunk\n",
    "    # print(results)\n",
    "    # print(label_chunk)\n",
    "    i+=1\n",
    "    # if i>=1: break"
   ]
  },
  {
   "cell_type": "code",
   "execution_count": 54,
   "metadata": {
    "scrolled": false
   },
   "outputs": [
    {
     "name": "stdout",
     "output_type": "stream",
     "text": [
      "Accuracy: 0.935 AUC: 0.9833297331029186\n"
     ]
    }
   ],
   "source": [
    "# Call the save results utility.\n",
    "from utils import save_results\n",
    "\n",
    "accuracy = accuracy_score(y_true[:,0], y_pred[:,0]>0.5)\n",
    "auc = roc_auc_score(y_true, y_pred)\n",
    "\n",
    "print(\"Accuracy:\", accuracy, \"AUC:\", auc)"
   ]
  },
  {
   "cell_type": "markdown",
   "metadata": {},
   "source": [
    "## Cleanup\n",
    "Run the cell below to delete your service."
   ]
  },
  {
   "cell_type": "code",
   "execution_count": null,
   "metadata": {},
   "outputs": [],
   "source": [
    "service.delete()"
   ]
  },
  {
   "cell_type": "code",
   "execution_count": null,
   "metadata": {},
   "outputs": [],
   "source": []
  }
 ],
 "metadata": {
  "kernelspec": {
   "display_name": "Python 3",
   "language": "python",
   "name": "python3"
  },
  "language_info": {
   "codemirror_mode": {
    "name": "ipython",
    "version": 3
   },
   "file_extension": ".py",
   "mimetype": "text/x-python",
   "name": "python",
   "nbconvert_exporter": "python",
   "pygments_lexer": "ipython3",
   "version": "3.6.8"
  }
 },
 "nbformat": 4,
 "nbformat_minor": 2
}
